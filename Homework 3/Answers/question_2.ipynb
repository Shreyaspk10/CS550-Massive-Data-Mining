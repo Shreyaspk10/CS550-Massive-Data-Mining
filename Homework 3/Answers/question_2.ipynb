{
  "nbformat": 4,
  "nbformat_minor": 0,
  "metadata": {
    "colab": {
      "name": "Q_2.ipynb",
      "provenance": []
    },
    "kernelspec": {
      "name": "python3",
      "display_name": "Python 3"
    },
    "language_info": {
      "name": "python"
    }
  },
  "cells": [
    {
      "cell_type": "code",
      "source": [
        "#importing libraries\n",
        "from scipy import linalg\n",
        "import numpy as np"
      ],
      "metadata": {
        "id": "mOl8tP_ljM4B"
      },
      "execution_count": 1,
      "outputs": []
    },
    {
      "cell_type": "code",
      "source": [
        "L = np.array([[4, -1, -1, -1, 0, 0, -1, 0],\n",
        "\t\t[-1, 3, -1, -1, 0, 0, 0, 0],\n",
        "\t\t[-1, -1, 3, -1, 0, 0, 0, 0],\n",
        "\t\t[-1, -1, -1, 3, 0, 0, 0, 0],\n",
        "\t\t[0, 0, 0, 0, 2, -1, -1, 0],\n",
        "\t\t[0, 0, 0, 0, -1, 2, -1, 0],\n",
        "\t\t[-1, 0, 0, 0, -1, -1, 4, -1],\n",
        "\t\t[0, 0, 0, 0, 0, 0, -1, 1]])\n",
        "\n",
        "node_mapping = {0:'A', 1:'B', 2:'C', 3:'D', 4:'E', 5:'F', 6:'G', 7:'H'}\n",
        "\n",
        "evals, evecs = linalg.eigh(L)\n",
        "sorted_evals = np.sort(evals)\n",
        "print(\"eigen values: \\n\", evals)\n",
        "print(\"\\n\")\n",
        "print(\"eigen vectors: \\n\", evecs)"
      ],
      "metadata": {
        "id": "rPlT6enIjUi8",
        "colab": {
          "base_uri": "https://localhost:8080/"
        },
        "outputId": "585c76f8-ca1e-4899-f524-a0233b7bcc06"
      },
      "execution_count": 2,
      "outputs": [
        {
          "output_type": "stream",
          "name": "stdout",
          "text": [
            "eigen values: \n",
            " [2.14038189e-16 3.54248689e-01 1.00000000e+00 3.00000000e+00\n",
            " 4.00000000e+00 4.00000000e+00 4.00000000e+00 5.64575131e+00]\n",
            "\n",
            "\n",
            "eigen vectors: \n",
            " [[-3.53553391e-01 -2.47017739e-01  0.00000000e+00  0.00000000e+00\n",
            "   6.07171542e-01  0.00000000e+00 -7.96411860e-02  6.62557346e-01]\n",
            " [-3.53553391e-01 -3.82527662e-01 -3.18493382e-17 -2.70599246e-17\n",
            "  -2.79396081e-01  5.62206567e-01 -5.60530944e-01 -1.42615758e-01]\n",
            " [-3.53553391e-01 -3.82527662e-01  8.59836280e-17 -1.12776339e-16\n",
            "  -1.00566604e-01  2.31676233e-01  8.02836107e-01 -1.42615758e-01]\n",
            " [-3.53553391e-01 -3.82527662e-01 -5.79022479e-17  1.50488323e-16\n",
            "  -2.27208857e-01 -7.93882800e-01 -1.62663977e-01 -1.42615758e-01]\n",
            " [-3.53553391e-01  3.82527662e-01 -4.08248290e-01  7.07106781e-01\n",
            "  -2.02390514e-01  2.16840434e-16  2.65470620e-02  1.42615758e-01]\n",
            " [-3.53553391e-01  3.82527662e-01 -4.08248290e-01 -7.07106781e-01\n",
            "  -2.02390514e-01 -2.82759927e-16  2.65470620e-02  1.42615758e-01]\n",
            " [-3.53553391e-01  2.47017739e-01  3.76795815e-18 -1.06520593e-17\n",
            "   6.07171542e-01 -1.11022302e-16 -7.96411860e-02 -6.62557346e-01]\n",
            " [-3.53553391e-01  3.82527662e-01  8.16496581e-01  1.12242936e-16\n",
            "  -2.02390514e-01 -1.71737624e-16  2.65470620e-02  1.42615758e-01]]\n"
          ]
        }
      ]
    },
    {
      "cell_type": "markdown",
      "source": [
        "(b) Using Matlab or Python, compute the eigen values and the corresponding eigen vectors of the Laplacian matrix. Rank the eigen values in ascending order"
      ],
      "metadata": {
        "id": "xMNMI7GWaWYu"
      }
    },
    {
      "cell_type": "code",
      "source": [
        "print(\"Eigenvalue and corresponding eigenvectors:- \\n\")\n",
        "for i in range(len(evals)):\n",
        "  print(\"eigenvalue \",i+1,\":- \", evals[i], \" - \", evecs[:,i], \"\\n\")"
      ],
      "metadata": {
        "colab": {
          "base_uri": "https://localhost:8080/"
        },
        "id": "vC3HXUPukV9r",
        "outputId": "5b8d3860-052b-4034-cbe0-bca9640c698a"
      },
      "execution_count": 3,
      "outputs": [
        {
          "output_type": "stream",
          "name": "stdout",
          "text": [
            "Eigenvalue and corresponding eigenvectors:- \n",
            "\n",
            "eigenvalue  1 :-  2.1403818880962127e-16  -  [-0.35355339 -0.35355339 -0.35355339 -0.35355339 -0.35355339 -0.35355339\n",
            " -0.35355339 -0.35355339] \n",
            "\n",
            "eigenvalue  2 :-  0.3542486889354087  -  [-0.24701774 -0.38252766 -0.38252766 -0.38252766  0.38252766  0.38252766\n",
            "  0.24701774  0.38252766] \n",
            "\n",
            "eigenvalue  3 :-  1.0000000000000049  -  [ 0.00000000e+00 -3.18493382e-17  8.59836280e-17 -5.79022479e-17\n",
            " -4.08248290e-01 -4.08248290e-01  3.76795815e-18  8.16496581e-01] \n",
            "\n",
            "eigenvalue  4 :-  3.0000000000000036  -  [ 0.00000000e+00 -2.70599246e-17 -1.12776339e-16  1.50488323e-16\n",
            "  7.07106781e-01 -7.07106781e-01 -1.06520593e-17  1.12242936e-16] \n",
            "\n",
            "eigenvalue  5 :-  3.999999999999996  -  [ 0.60717154 -0.27939608 -0.1005666  -0.22720886 -0.20239051 -0.20239051\n",
            "  0.60717154 -0.20239051] \n",
            "\n",
            "eigenvalue  6 :-  4.000000000000001  -  [ 0.00000000e+00  5.62206567e-01  2.31676233e-01 -7.93882800e-01\n",
            "  2.16840434e-16 -2.82759927e-16 -1.11022302e-16 -1.71737624e-16] \n",
            "\n",
            "eigenvalue  7 :-  4.000000000000002  -  [-0.07964119 -0.56053094  0.80283611 -0.16266398  0.02654706  0.02654706\n",
            " -0.07964119  0.02654706] \n",
            "\n",
            "eigenvalue  8 :-  5.645751311064582  -  [ 0.66255735 -0.14261576 -0.14261576 -0.14261576  0.14261576  0.14261576\n",
            " -0.66255735  0.14261576] \n",
            "\n"
          ]
        }
      ]
    },
    {
      "cell_type": "markdown",
      "source": [
        "(c) What is the eigen vector corresponding to the second smallest eigen values?\n",
        "Using 0 as the boundary, partition the graph into two communities, what is the graph partitioning result?"
      ],
      "metadata": {
        "id": "XnvgMY1baiKF"
      }
    },
    {
      "cell_type": "code",
      "source": [
        "lambda2 = evals[1]\n",
        "x = evecs[:,1]\n",
        "print(\"Second smallest eigen value = \", lambda2)\n",
        "print(\"Corresponding Eigen vector = \\n\", x)"
      ],
      "metadata": {
        "colab": {
          "base_uri": "https://localhost:8080/"
        },
        "id": "JnR1QdENCmI_",
        "outputId": "511e41b5-5cd3-45e1-a7e8-ff6bd5f3e660"
      },
      "execution_count": 4,
      "outputs": [
        {
          "output_type": "stream",
          "name": "stdout",
          "text": [
            "Second smallest eigen value =  0.3542486889354087\n",
            "Corresponding Eigen vector = \n",
            " [-0.24701774 -0.38252766 -0.38252766 -0.38252766  0.38252766  0.38252766\n",
            "  0.24701774  0.38252766]\n"
          ]
        }
      ]
    },
    {
      "cell_type": "code",
      "source": [
        "# Community 1\n",
        "print(\"Community 1\")\n",
        "for n in np.argwhere(x>0):\n",
        "\tprint(node_mapping[n[0]])\n",
        "\n",
        "# Community 2 \n",
        "print(\"\\n Community 2\")\n",
        "for n in np.argwhere(x<0):\n",
        "\tprint(node_mapping[n[0]])"
      ],
      "metadata": {
        "colab": {
          "base_uri": "https://localhost:8080/"
        },
        "id": "PM0cGI3dCeeB",
        "outputId": "d763c700-c43c-4add-cbe9-2c451e17f111"
      },
      "execution_count": 5,
      "outputs": [
        {
          "output_type": "stream",
          "name": "stdout",
          "text": [
            "Community 1\n",
            "E\n",
            "F\n",
            "G\n",
            "H\n",
            "\n",
            " Community 2\n",
            "A\n",
            "B\n",
            "C\n",
            "D\n"
          ]
        }
      ]
    }
  ]
}