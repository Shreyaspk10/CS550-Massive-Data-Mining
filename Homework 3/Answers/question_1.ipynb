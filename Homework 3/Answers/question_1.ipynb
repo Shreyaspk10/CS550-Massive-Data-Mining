{
  "nbformat": 4,
  "nbformat_minor": 0,
  "metadata": {
    "colab": {
      "name": "Q_1.ipynb",
      "provenance": []
    },
    "kernelspec": {
      "name": "python3",
      "display_name": "Python 3"
    },
    "language_info": {
      "name": "python"
    }
  },
  "cells": [
    {
      "cell_type": "code",
      "source": [
        "#importing libraries\n",
        "import numpy as np"
      ],
      "metadata": {
        "id": "ysZVlM_Lfgzn"
      },
      "execution_count": 4,
      "outputs": []
    },
    {
      "cell_type": "code",
      "source": [
        "def get_modularity(A, k, m, x):\n",
        "\tQ = 0\n",
        "\tfor i in range(8):\n",
        "\t\tfor j in range(8):\n",
        "\t\t\tQ += (A[i][j] - (k[i]*k[j])/(2*m) ) * x[i] * x[j]\n",
        "\tQ = Q/(4*m)\n",
        "\n",
        "\treturn Q"
      ],
      "metadata": {
        "id": "z4EcqarffmF7"
      },
      "execution_count": 5,
      "outputs": []
    },
    {
      "cell_type": "code",
      "source": [
        "#Original Graph\n",
        "A = np.array([[0, 1, 1, 1, 0, 0, 1, 0],\n",
        "\t\t\t[1, 0, 1, 1, 0, 0, 0, 0],\n",
        "\t\t\t[1, 1, 0, 1, 0, 0, 0, 0],\n",
        "\t\t\t[1, 1, 1, 0, 0, 0, 0, 0],\n",
        "\t\t\t[0, 0, 0, 0, 0, 1, 1, 0],\n",
        "\t\t\t[0, 0, 0, 0, 1, 0, 1, 0],\n",
        "\t\t\t[1, 0, 0, 0, 1, 1, 0, 1],\n",
        "\t\t\t[0, 0, 0, 0, 0, 0, 1, 0]])\n",
        "\n",
        "k = [4,3,3,3,2,2,4,1]\n",
        "m = 11\n",
        "x = [1,1,1,1,-1,-1,-1,-1]\n",
        "\n",
        "print(\"Original Graph \", get_modularity(A, k, m, x))"
      ],
      "metadata": {
        "colab": {
          "base_uri": "https://localhost:8080/"
        },
        "id": "LgkkpEIrgz0z",
        "outputId": "6efdee8f-5255-433e-f8fb-bbf64d493db8"
      },
      "execution_count": 6,
      "outputs": [
        {
          "output_type": "stream",
          "name": "stdout",
          "text": [
            "Original Graph  0.3925619834710744\n"
          ]
        }
      ]
    },
    {
      "cell_type": "markdown",
      "source": [
        "a) If we remove edge (A, G) and partition the graph into two communities, calculate **the** modularity of this partition."
      ],
      "metadata": {
        "id": "EYsQiH_pZfzV"
      }
    },
    {
      "cell_type": "code",
      "source": [
        "#Q.1 a)\n",
        "A = np.array([[0, 1, 1, 1, 0, 0, 1, 0],\n",
        "\t\t\t\t[1, 0, 1, 1, 0, 0, 0, 0],\n",
        "\t\t\t\t[1, 1, 0, 1, 0, 0, 0, 0],\n",
        "\t\t\t\t[1, 1, 1, 0, 0, 0, 0, 0],\n",
        "\t\t\t\t[0, 0, 0, 0, 0, 1, 1, 1],\n",
        "\t\t\t\t[0, 0, 0, 0, 1, 0, 1, 0],\n",
        "\t\t\t\t[1, 0, 0, 0, 1, 1, 0, 1],\n",
        "\t\t\t\t[0, 0, 0, 0, 1, 0, 1, 0]])\n",
        "\n",
        "k = [3,3,3,3,2,2,3,1]\n",
        "m = 10\n",
        "x = [1,1,1,1,-1,-1,-1,-1]\n",
        "\n",
        "print(\"Question 1 a) \", get_modularity(A, k, m, x))"
      ],
      "metadata": {
        "colab": {
          "base_uri": "https://localhost:8080/"
        },
        "id": "j_LCT0mRhcmf",
        "outputId": "246393a4-667e-4242-f947-7ca3143088c8"
      },
      "execution_count": 7,
      "outputs": [
        {
          "output_type": "stream",
          "name": "stdout",
          "text": [
            "Question 1 a)  0.48\n"
          ]
        }
      ]
    },
    {
      "cell_type": "markdown",
      "source": [
        "(b) Now, consider the original network from the figure and the groups identified in (a). Add a link between nodes E and H and recalculate modularity Q. Did the modularity Q go up or down? Why?"
      ],
      "metadata": {
        "id": "VODfExaPZ6d9"
      }
    },
    {
      "cell_type": "code",
      "source": [
        "#Q.1 b)\n",
        "A = np.array([[0, 1, 1, 1, 0, 0, 1, 0],\n",
        "\t\t[1, 0, 1, 1, 0, 0, 0, 0],\n",
        "\t\t[1, 1, 0, 1, 0, 0, 0, 0],\n",
        "\t\t[1, 1, 1, 0, 0, 0, 0, 0],\n",
        "\t\t[0, 0, 0, 0, 0, 1, 1, 1],\n",
        "\t\t[0, 0, 0, 0, 1, 0, 1, 0],\n",
        "\t\t[1, 0, 0, 0, 1, 1, 0, 1],\n",
        "\t\t[0, 0, 0, 0, 0, 0, 1, 1]])\n",
        "\n",
        "k = [4,3,3,3,3,2,4,2]\n",
        "m = 12\n",
        "x = [1,1,1,1,-1,-1,-1,-1]\n",
        "print(\"Question 1 b) \", get_modularity(A, k, m, x))"
      ],
      "metadata": {
        "colab": {
          "base_uri": "https://localhost:8080/"
        },
        "id": "dBZ7NSUmh0Y9",
        "outputId": "138940e8-ed74-45ed-eada-82b0572cf05b"
      },
      "execution_count": 8,
      "outputs": [
        {
          "output_type": "stream",
          "name": "stdout",
          "text": [
            "Question 1 b)  0.4131944444444444\n"
          ]
        }
      ]
    },
    {
      "cell_type": "markdown",
      "source": [
        "(c) Consider the original network from the figure and the groups identified in (a). Now add a link between nodes F and A and recalculate modularity Q. Did Q go up or down? Why?"
      ],
      "metadata": {
        "id": "LWhSgnfKaBB9"
      }
    },
    {
      "cell_type": "code",
      "source": [
        "#Q.1 c)\n",
        "A = np.array([[0, 1, 1, 1, 0, 1, 1, 0],\n",
        "\t\t[1, 0, 1, 1, 0, 0, 0, 0],\n",
        "\t\t[1, 1, 0, 1, 0, 0, 0, 0],\n",
        "\t\t[1, 1, 1, 0, 0, 0, 0, 0],\n",
        "\t\t[0, 0, 0, 0, 0, 1, 1, 0],\n",
        "\t\t[1, 0, 0, 0, 1, 0, 1, 0],\n",
        "\t\t[1, 0, 0, 0, 1, 1, 0, 1],\n",
        "\t\t[0, 0, 0, 0, 0, 0, 1, 0]])\n",
        "\n",
        "k = [5,3,3,3,2,3,4,1]\n",
        "m = 12\n",
        "x = [1,1,1,1,-1,-1,-1,-1]\n",
        "\n",
        "print(\"Question 1 c) \", get_modularity(A, k, m, x))"
      ],
      "metadata": {
        "colab": {
          "base_uri": "https://localhost:8080/"
        },
        "id": "wFaxZCBOiBQF",
        "outputId": "7765dbc5-397a-4cc2-bfd3-28d0cca23f52"
      },
      "execution_count": 9,
      "outputs": [
        {
          "output_type": "stream",
          "name": "stdout",
          "text": [
            "Question 1 c)  0.3194444444444445\n"
          ]
        }
      ]
    }
  ]
}